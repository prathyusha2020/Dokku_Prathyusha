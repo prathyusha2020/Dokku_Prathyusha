{
  "cells": [
    {
      "cell_type": "markdown",
      "metadata": {
        "id": "view-in-github",
        "colab_type": "text"
      },
      "source": [
        "<a href=\"https://colab.research.google.com/github/prathyusha2020/Dokku_Prathyusha/blob/main/NeuralNetworksCode.ipynb\" target=\"_parent\"><img src=\"https://colab.research.google.com/assets/colab-badge.svg\" alt=\"Open In Colab\"/></a>"
      ]
    },
    {
      "cell_type": "code",
      "execution_count": null,
      "metadata": {
        "id": "z4uNeQigkhd4"
      },
      "outputs": [],
      "source": [
        "## Feed Forward Neural Implementation"
      ]
    },
    {
      "cell_type": "code",
      "source": [
        ""
      ],
      "metadata": {
        "id": "z61OhSUaQN-V"
      },
      "execution_count": null,
      "outputs": []
    },
    {
      "cell_type": "code",
      "execution_count": null,
      "metadata": {
        "id": "q7K8LRWMkhd9"
      },
      "outputs": [],
      "source": [
        "import pandas as pd\n",
        "import numpy as np\n",
        "import matplotlib.pyplot as plt\n",
        "from sklearn.model_selection import train_test_split\n",
        "import keras\n",
        "from tensorflow.keras.models import Sequential\n",
        "from tensorflow.keras import optimizers\n",
        "from tensorflow.keras.layers import Dense, Dropout, Activation\n",
        "\n",
        "from tensorflow.keras import regularizers\n"
      ]
    },
    {
      "cell_type": "code",
      "execution_count": null,
      "metadata": {
        "id": "S4MEi9sSkhd-"
      },
      "outputs": [],
      "source": [
        "'''\n",
        "Creating dataframes by reading genuine users2.csv and fake users fakeusers1.csv\n",
        "'''\n",
        "df_users = pd.read_csv(\"dataset-1-users.csv\")\n",
        "df_fusers = pd.read_csv(\"dataset-2-fusers.csv\")"
      ]
    },
    {
      "cell_type": "markdown",
      "source": [
        "# New Section"
      ],
      "metadata": {
        "id": "orw3cfQYkvuT"
      }
    },
    {
      "cell_type": "code",
      "execution_count": null,
      "metadata": {
        "colab": {
          "base_uri": "https://localhost:8080/"
        },
        "id": "dS8SQ8_7khd_",
        "outputId": "640db6d5-0739-4cd1-87e1-8549faac8cf3"
      },
      "outputs": [
        {
          "output_type": "stream",
          "name": "stdout",
          "text": [
            "Number of genuine users\n",
            "1480\n",
            "Number of fake users\n",
            "1337\n"
          ]
        }
      ],
      "source": [
        "\n",
        "print(\"Number of genuine users\")\n",
        "print(len(df_users))\n",
        "\n",
        "print(\"Number of fake users\")\n",
        "print(len(df_fusers))"
      ]
    },
    {
      "cell_type": "code",
      "execution_count": null,
      "metadata": {
        "id": "m_OsqtJwkheA"
      },
      "outputs": [],
      "source": [
        "#Creating numpy array of zeros for attribute isFake, here zero means fake user and 1 means genuine user\n",
        "fk = np.zeros(len(df_fusers))\n",
        "\n",
        "#creating an array of ones for isFake attribute\n",
        "ntFk = np.ones(len(df_users))\n",
        "\n",
        "#adding new attributes to the data frame of fake and genuine users\n",
        "df_fusers[\"isFake\"] = fk\n",
        "df_users[\"isFake\"] = ntFk\n"
      ]
    },
    {
      "cell_type": "code",
      "execution_count": null,
      "metadata": {
        "colab": {
          "base_uri": "https://localhost:8080/"
        },
        "id": "4GtXyRiikheB",
        "outputId": "7e07ff5d-d902-4a92-f6fc-892f677a8247"
      },
      "outputs": [
        {
          "output_type": "execute_result",
          "data": {
            "text/plain": [
              "[RangeIndex(start=0, stop=2817, step=1),\n",
              " Index(['id', 'name', 'screen_name', 'statuses_count', 'followers_count',\n",
              "        'friends_count', 'favourites_count', 'listed_count', 'created_at',\n",
              "        'url', 'lang', 'time_zone', 'location', 'default_profile',\n",
              "        'default_profile_image', 'geo_enabled', 'profile_image_url',\n",
              "        'profile_banner_url', 'profile_use_background_image',\n",
              "        'profile_background_image_url_https', 'profile_text_color',\n",
              "        'profile_image_url_https', 'profile_sidebar_border_color',\n",
              "        'profile_background_tile', 'profile_sidebar_fill_color',\n",
              "        'profile_background_image_url', 'profile_background_color',\n",
              "        'profile_link_color', 'utc_offset', 'protected', 'verified',\n",
              "        'description', 'updated', 'dataset', 'isFake'],\n",
              "       dtype='object')]"
            ]
          },
          "metadata": {},
          "execution_count": 13
        }
      ],
      "source": [
        "'''\n",
        "Creating one single data frame by concatenating the two data frames\n",
        "'''\n",
        "combine_d = pd.concat([df_fusers, df_users], ignore_index=True)\n",
        "\n",
        "combine_d.axes\n"
      ]
    },
    {
      "cell_type": "code",
      "execution_count": null,
      "metadata": {
        "id": "Z8BdL6bukheC"
      },
      "outputs": [],
      "source": [
        "combine_d.columns = combine_d.columns.str.strip()\n",
        "\n",
        "combine_d.axes\n",
        "#suffling the data\n",
        "combine_d = combine_d.sample(frac=1).reset_index(drop=True)"
      ]
    },
    {
      "cell_type": "code",
      "execution_count": null,
      "metadata": {
        "id": "-8mVN07AkheD"
      },
      "outputs": [],
      "source": [
        "\n",
        "combine_d.axes\n",
        "# Creating target variable\n",
        "target = combine_d.isFake"
      ]
    },
    {
      "cell_type": "code",
      "execution_count": null,
      "metadata": {
        "id": "-P97dOwtkheE"
      },
      "outputs": [],
      "source": [
        "combine_d.drop([\"isFake\"], axis=1, inplace=True)\n",
        "input_X= combine_d"
      ]
    },
    {
      "cell_type": "code",
      "execution_count": null,
      "metadata": {
        "id": "383ce57lkheF"
      },
      "outputs": [],
      "source": [
        "target.reset_index(drop=True, inplace=True)"
      ]
    },
    {
      "cell_type": "code",
      "execution_count": null,
      "metadata": {
        "id": "jAAJLKqdkheF"
      },
      "outputs": [],
      "source": [
        "\n",
        "# Below will create a mapping of language with numerical value\n",
        "language_ls = list(enumerate(np.unique(input_X[\"lang\"])))\n",
        "language_dict = {name : i for i, name in language_ls}\n",
        "input_X.loc[:, \"lang_num\"] = input_X[\"lang\"].map(lambda x: language_dict[x]).astype(int)\n",
        "\n",
        "input_X.drop([\"name\"], axis=1, inplace=True)"
      ]
    },
    {
      "cell_type": "code",
      "execution_count": null,
      "metadata": {
        "id": "wlLkdrFPkheG"
      },
      "outputs": [],
      "source": [
        "input_X = input_X[[\n",
        "    \"statuses_count\",\n",
        "    \"followers_count\",\n",
        "    \"friends_count\",\n",
        "    \"favourites_count\",\n",
        "    \"lang_num\",\n",
        "    \"listed_count\",\n",
        "    \"geo_enabled\",\n",
        "    \"utc_offset\",\n",
        "    \"profile_use_background_image\"\n",
        "                        ]]"
      ]
    },
    {
      "cell_type": "code",
      "execution_count": null,
      "metadata": {
        "id": "3XEStizMkheG"
      },
      "outputs": [],
      "source": [
        "# imputing missing values with false\n",
        "input_X = input_X.replace(np.nan, 0)"
      ]
    },
    {
      "cell_type": "code",
      "execution_count": null,
      "metadata": {
        "id": "floU7Wj8kheH"
      },
      "outputs": [],
      "source": [
        "# splitting the data in train and test set\n",
        "train_X, test_X, train_y, test_y = train_test_split(input_X, target, train_size=0.8, test_size=0.2, random_state=0)"
      ]
    },
    {
      "cell_type": "code",
      "execution_count": null,
      "metadata": {
        "colab": {
          "base_uri": "https://localhost:8080/"
        },
        "id": "FqvfkVNIkheH",
        "outputId": "444b3292-5586-4b88-f016-6083012111a1"
      },
      "outputs": [
        {
          "output_type": "stream",
          "name": "stdout",
          "text": [
            "(2253, 9)\n",
            "(564, 9)\n",
            "(2253,)\n",
            "(564,)\n"
          ]
        }
      ],
      "source": [
        "print(train_X.shape)\n",
        "print(test_X.shape)\n",
        "print(train_y.shape)\n",
        "print(test_y.shape)"
      ]
    },
    {
      "cell_type": "code",
      "execution_count": null,
      "metadata": {
        "id": "PjKkRQvkkheH"
      },
      "outputs": [],
      "source": [
        "from numpy.random import seed\n",
        "seed(1)"
      ]
    },
    {
      "cell_type": "code",
      "execution_count": null,
      "metadata": {
        "colab": {
          "base_uri": "https://localhost:8080/",
          "height": 851
        },
        "id": "9qwHsKd-kheI",
        "outputId": "e14f981d-9fb3-4e9b-c6fd-b1d61da602df"
      },
      "outputs": [
        {
          "output_type": "stream",
          "name": "stdout",
          "text": [
            "Epoch 1/8\n",
            "71/71 [==============================] - 1s 2ms/step - loss: 23.0103 - accuracy: 0.9707\n",
            "Epoch 2/8\n",
            "71/71 [==============================] - 0s 2ms/step - loss: 10.5463 - accuracy: 0.9854\n",
            "Epoch 3/8\n",
            "71/71 [==============================] - 0s 2ms/step - loss: 5.3200 - accuracy: 0.9907\n",
            "Epoch 4/8\n",
            "71/71 [==============================] - 0s 2ms/step - loss: 2.8086 - accuracy: 0.9765\n",
            "Epoch 5/8\n",
            "71/71 [==============================] - 0s 2ms/step - loss: 2.1134 - accuracy: 0.9334\n",
            "Epoch 6/8\n",
            "71/71 [==============================] - 0s 2ms/step - loss: 1.6727 - accuracy: 0.9414\n",
            "Epoch 7/8\n",
            "71/71 [==============================] - 0s 2ms/step - loss: 1.3362 - accuracy: 0.9663\n",
            "Epoch 8/8\n",
            "71/71 [==============================] - 0s 2ms/step - loss: 0.8889 - accuracy: 0.9525\n"
          ]
        },
        {
          "output_type": "display_data",
          "data": {
            "text/plain": [
              "<Figure size 432x288 with 1 Axes>"
            ],
            "image/png": "[encoded data removed]"
          },
          "metadata": {
            "needs_background": "light"
          }
        },
        {
          "output_type": "display_data",
          "data": {
            "text/plain": [
              "<Figure size 432x288 with 1 Axes>"
            ],
            "image/png": "[encoded data removed]"
          },
          "metadata": {
            "needs_background": "light"
          }
        }
      ],
      "source": [
        "# Creating the model with one hidden layer \n",
        "model = Sequential()\n",
        "model.add(Dense(32, activation='relu', input_dim=9))\n",
        "model.add(Dense(64, input_dim=32,\n",
        "                kernel_regularizer=regularizers.l2(0.0079),\n",
        "                activity_regularizer=regularizers.l1(0.0026), activation='relu'))\n",
        "model.add(Dense(1, activation='sigmoid'))\n",
        "model.compile(optimizer='rmsprop',\n",
        "              loss='binary_crossentropy',\n",
        "              metrics=['accuracy'])\n",
        "\n",
        "history_data = model.fit(train_X, train_y, epochs=8)\n",
        "\n",
        "# Plot training & validation accuracy values\n",
        "plt.plot(history_data.history['accuracy'])\n",
        "plt.title('Model Accuracy')\n",
        "plt.ylabel('Accuracy')\n",
        "plt.xlabel('Epoch')\n",
        "plt.legend(['Train', 'Test'], loc='center right')\n",
        "plt.show()\n",
        "\n",
        "# Plot training & validation loss values\n",
        "plt.plot(history_data.history['loss'])\n",
        "plt.title('Model Loss')\n",
        "plt.ylabel('Loss')\n",
        "plt.xlabel('Epoch')\n",
        "plt.legend(['Train', 'Test'], loc='center right')\n",
        "plt.show()"
      ]
    },
    {
      "cell_type": "code",
      "execution_count": null,
      "metadata": {
        "colab": {
          "base_uri": "https://localhost:8080/"
        },
        "id": "pQO8YkbrkheI",
        "outputId": "61eba9fc-a564-4e6e-8572-6277b7aa3b49"
      },
      "outputs": [
        {
          "output_type": "stream",
          "name": "stdout",
          "text": [
            "18/18 [==============================] - 1s 2ms/step - loss: 0.4860 - accuracy: 0.9858\n",
            "==================================================\n",
            "Accuracy for testing date 98.58155846595764\n",
            "==================================================\n"
          ]
        }
      ],
      "source": [
        "#Evaluating model on validation set\n",
        "sc, accuracy = model.evaluate(test_X, test_y)\n",
        "\n",
        "print(\"==================================================\")\n",
        "print(\"Accuracy for testing date\",accuracy*100 )\n",
        "print(\"==================================================\")\n",
        "\n",
        "\n"
      ]
    }
  ],
  "metadata": {
    "kernelspec": {
      "display_name": "Python 3 (ipykernel)",
      "language": "python",
      "name": "python3"
    },
    "language_info": {
      "codemirror_mode": {
        "name": "ipython",
        "version": 3
      },
      "file_extension": ".py",
      "mimetype": "text/x-python",
      "name": "python",
      "nbconvert_exporter": "python",
      "pygments_lexer": "ipython3",
      "version": "3.9.7"
    },
    "colab": {
      "name": "NeuralNetworksCode.ipynb",
      "provenance": [],
      "include_colab_link": true
    }
  },
  "nbformat": 4,
  "nbformat_minor": 0
}